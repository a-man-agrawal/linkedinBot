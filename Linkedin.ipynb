{
 "cells": [
  {
   "cell_type": "code",
   "execution_count": null,
   "metadata": {},
   "outputs": [],
   "source": [
    "from selenium import webdriver\n",
    "from selenium.webdriver.chrome.service import Service\n",
    "from selenium.webdriver.common.keys import Keys\n",
    "\n",
    "from selenium.webdriver.common.by import By\n",
    "\n",
    "from selenium.common.exceptions import NoSuchElementException,StaleElementReferenceException,ElementNotInteractableException\n",
    "import time"
   ]
  },
  {
   "cell_type": "code",
   "execution_count": null,
   "metadata": {},
   "outputs": [],
   "source": [
    "#employee count check\n",
    "def emp_check(text):\n",
    "    if \"1-10 e\" in text or \"11-\" in text or \"101-\" in text or \"51-\" in text:\n",
    "        return False\n",
    "    return True"
   ]
  },
  {
   "cell_type": "code",
   "execution_count": null,
   "metadata": {},
   "outputs": [],
   "source": [
    "# Exsperience check\n",
    "def exp_check(text):\n",
    "    exclusions = [\"5+\",\"4+\",\"4-\",\"6+\",\"6 to\",\"6-\",\"7+\",\"8+\",\"5-\",\"5 to\",\"8 to\",\"8-\"]\n",
    "    if any(ele in text for ele in exclusions):\n",
    "        return False\n",
    "    return True"
   ]
  },
  {
   "cell_type": "code",
   "execution_count": null,
   "metadata": {},
   "outputs": [],
   "source": [
    "# heading Check\n",
    "def head_check(text):\n",
    "    text = text.lower()\n",
    "    exclusions = [\"network\",\"principle\",\"marketing\",\"incident\",\"planning\",\"performance\",\"ops\",\"flutter\",\"bi\",\"admin\",\"fraud\",\"system\",\"virtual\",\"application\",\"lake\",\"quant\",\"migration\",\"learning\",\"legal\",\"database\",\"build\",\"operations\",\n",
    "    \"product\",\"finance\",\"Maintenance\",\"consumer\",\"capability\",\"configuration\",\"hardware\",\n",
    "    \"infra\",\"infrastructure\",\"mobile\",\"design\",\"physical\",\"qa\",\"servicenow\",\"project\",\"quality\",\"embedded\",\n",
    "    \"c#\",\"quality\",\"integration\",\"sales\",\"solution\",\"risk\",\"snowflake\",\"angular\",\"ios\",\"cyber\",\"security\",\n",
    "    \"business\",\"android\",\"tableau\",\"process\",\"manager\",\"power bi\",\"powerbi\",\"azure\",\"site\",\"support\",\n",
    "    \"sas\",\"test\",\"imaging\",\"iot\",\"dot\",\"computer vision\",\"scala\",\"data visualization\",\"decision\",\"spring\",\n",
    "    \"java\",\"big\",\"c++\",\"front\",\"react\",\"dotnet\",\"frontend\",\"devops\",\"teaching\"\n",
    "    ,\"itpa\",\".net\",\"ui\",\"pl/sql\",\"plsql\",\"r&d\",\"pyspark\",\"matlab\",\"php\",\"spark\",\"j2ee\",\"visual basic\"]\n",
    "    \n",
    "    if any(ele in text for ele in exclusions):\n",
    "        return False\n",
    "    return True"
   ]
  },
  {
   "cell_type": "code",
   "execution_count": null,
   "metadata": {},
   "outputs": [],
   "source": [
    "def description_check(text):\n",
    "    text = text.lower()\n",
    "    exclusions = [\"spring\",\"j2ee\",\"hibernate\",\"vba\"]\n",
    "    if any(ele in text for ele in exclusions):\n",
    "        return False\n",
    "    return True"
   ]
  },
  {
   "cell_type": "code",
   "execution_count": null,
   "metadata": {},
   "outputs": [],
   "source": [
    "import random\n",
    "def scroll_slow(scrollable_element, start=0, end=3600, step=100, reverse=False):\n",
    "    if reverse:\n",
    "        start, end = end, start\n",
    "        step = -step\n",
    "\n",
    "    for i in range(start, end, step):\n",
    "        driver.execute_script(\"arguments[0].scrollTo(0, {})\".format(i), scrollable_element)\n",
    "        time.sleep(random.uniform(1.0, 2.0))"
   ]
  },
  {
   "cell_type": "code",
   "execution_count": null,
   "metadata": {},
   "outputs": [],
   "source": [
    "s = Service(\"D:\\chromedriver.exe\")\n",
    "driver = webdriver.Chrome(service=s)\n",
    "driver.maximize_window()\n",
    "Link = \"https://www.linkedin.com/jobs/search/?currentJobId=3255762466&f_E=2%2C3&f_JT=F&f_PP=105214831%2C103671728%2C106164952%2C104869687%2C104793846&f_TPR=r86400&f_WT=1%2C2%2C3&keywords=python&refresh=true&sortBy=R\"\n",
    "driver.get(Link)\n",
    "time.sleep(2)\n",
    "\n",
    "##### Login ####\n",
    "\n",
    "login_btn = driver.find_element(\"link text\",\"Sign in\")\n",
    "login_btn.click()\n",
    "\n",
    "username = driver.find_element(\"id\",\"username\")\n",
    "username.send_keys(\"amanag10000@gmail.com\")\n",
    "password = driver.find_element(\"id\",\"password\")\n",
    "password.send_keys(\"Ammu@2504.linked\")\n",
    "password.send_keys(Keys.ENTER)\n",
    "time.sleep(2)\n",
    "\n",
    "## Job Apply ###          \n",
    "start =0\n",
    "count =0\n",
    "total =0\n",
    "job_count = int(driver.find_element(By.CSS_SELECTOR,\".jobs-search-results-list__title-heading\").text.split(\"\\n\")[1].split()[0].replace(\",\",\"\"))\n",
    "print(\"Total jobs available:\" + str(job_count))\n",
    "\n",
    "while start<=975 and total < job_count:\n",
    "    \n",
    "    time.sleep(2)\n",
    "\n",
    "    job_results = driver.find_element(By.CSS_SELECTOR,\".jobs-search-results-list\")\n",
    "    scroll_slow(job_results,step = 800)\n",
    "    scroll_slow(job_results,step = 800, reverse = True)\n",
    "\n",
    "    ulClass= driver.find_element(By.CLASS_NAME,\"scaffold-layout__list-container\")\n",
    "    all_listings = ulClass.find_elements(By.CSS_SELECTOR,'.scaffold-layout__list-item')\n",
    "    total += len(all_listings)\n",
    "\n",
    "    for listing in all_listings:\n",
    "        try:\n",
    "            listing.click()\n",
    "            time.sleep(1.5)\n",
    "\n",
    "            employee_count = driver.find_elements(By.CSS_SELECTOR,\".jobs-unified-top-card__job-insight\")[1].text\n",
    "            description_text = driver.find_element(By.CSS_SELECTOR,\".jobs-unified-description__content\").text\n",
    "            head_text = driver.find_element(By.CSS_SELECTOR,\".jobs-unified-top-card__job-title\").text\n",
    "            \n",
    "            if emp_check(employee_count) and exp_check(description_text) and head_check(head_text) and description_check(description_text):\n",
    "                \n",
    "                save_button = driver.find_element(By.CSS_SELECTOR,\".jobs-save-button\")\n",
    "                if \"Save\" in save_button.text.split():\n",
    "                    count+=1\n",
    "                    print(str(count) + \"->\" + save_button.text.split(\" \",1)[1])\n",
    "                    save_button.click()\n",
    "                    time.sleep(1)\n",
    "                    close_button = driver.find_element(By.CSS_SELECTOR,\".artdeco-button--1\")\n",
    "                    close_button.click()\n",
    "                    time.sleep(1)\n",
    "            \n",
    "        except NoSuchElementException:\n",
    "            continue\n",
    "\n",
    "        except StaleElementReferenceException:\n",
    "            continue\n",
    "        \n",
    "        except IndexError:\n",
    "            break\n",
    "\n",
    "        except ElementNotInteractableException:\n",
    "            continue\n",
    "            \n",
    "    # next page ## \n",
    "    print(\"Saved Out of \" + str(total))\n",
    "    start = start+25\n",
    "    new_url = Link + \"&start=\" + str(start)\n",
    "    driver.get(new_url)\n",
    "\n",
    "time.sleep(5)\n",
    "driver.quit()\n"
   ]
  }
 ],
 "metadata": {
  "kernelspec": {
   "display_name": "Python 3.9.7 ('base')",
   "language": "python",
   "name": "python3"
  },
  "language_info": {
   "codemirror_mode": {
    "name": "ipython",
    "version": 3
   },
   "file_extension": ".py",
   "mimetype": "text/x-python",
   "name": "python",
   "nbconvert_exporter": "python",
   "pygments_lexer": "ipython3",
   "version": "3.9.7"
  },
  "orig_nbformat": 4,
  "vscode": {
   "interpreter": {
    "hash": "ad2bdc8ecc057115af97d19610ffacc2b4e99fae6737bb82f5d7fb13d2f2c186"
   }
  }
 },
 "nbformat": 4,
 "nbformat_minor": 2
}
