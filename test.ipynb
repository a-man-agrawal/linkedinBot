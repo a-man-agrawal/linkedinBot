{
 "cells": [
  {
   "cell_type": "code",
   "execution_count": 1,
   "metadata": {},
   "outputs": [],
   "source": [
    "import yaml\n",
    "from selenium import webdriver\n",
    "from selenium.webdriver.chrome.options import Options\n",
    "from linkedineasyapply import LinkedinEasyApply\n",
    "from validate_email import validate_email\n",
    "\n",
    "def init_browser():\n",
    "    browser_options = Options()\n",
    "    optionss = ['--disable-blink-features', '--no-sandbox', '--start-maximized', '--disable-extensions',\n",
    "               '--ignore-certificate-errors', '--disable-blink-features=AutomationControlled', '--remote-debugging-port=9222']\n",
    "\n",
    "    for option in optionss:\n",
    "        browser_options.add_argument(option)\n",
    "\n",
    "    driver = webdriver.Chrome(options=browser_options)\n",
    "\n",
    "    driver.set_window_position(0, 0)\n",
    "    driver.maximize_window()\n",
    "\n",
    "    return driver\n",
    "\n",
    "\n",
    "def validate_yaml():\n",
    "    with open(\"config.yaml\", 'r') as stream:\n",
    "        try:\n",
    "            parameters = yaml.safe_load(stream)\n",
    "        except yaml.YAMLError as exc:\n",
    "            raise exc\n",
    "\n",
    "    mandatory_params = ['email', 'password', 'disableAntiLock', 'remote', 'jobTypes', 'date',\n",
    "                        'positions','employee count', 'outputFileDirectory', 'checkboxes', 'universityGpa',\n",
    "                        'languages', 'experience', 'personalInfo', 'eeo', 'uploads']\n",
    "\n",
    "    for mandatory_param in mandatory_params:\n",
    "        if mandatory_param not in parameters:\n",
    "            raise Exception(mandatory_param + ' is not inside the yml file!')\n",
    "\n",
    "    assert validate_email(parameters['email'])\n",
    "    assert len(str(parameters['password'])) > 0\n",
    "\n",
    "    assert isinstance(parameters['disableAntiLock'], bool)\n",
    "\n",
    "    assert isinstance(parameters['remote'], bool)\n",
    "\n",
    "    assert len(parameters['jobTypes']) > 0\n",
    "    job_types = parameters.get('jobTypes', [])\n",
    "    at_least_one_job_type = False\n",
    "    for key in job_types.keys():\n",
    "        if job_types[key]:\n",
    "            at_least_one_job_type = True\n",
    "    assert at_least_one_job_type\n",
    "\n",
    "    assert len(parameters['date']) > 0\n",
    "    date = parameters.get('date', [])\n",
    "    at_least_one_date = False\n",
    "    for key in date.keys():\n",
    "        if date[key]:\n",
    "            at_least_one_date = True\n",
    "    assert at_least_one_date\n",
    "\n",
    "    assert len(parameters['positions']) > 0\n",
    "\n",
    "    assert len(parameters['uploads']) >= 1 and 'resume' in parameters['uploads']\n",
    "\n",
    "    assert len(parameters['employee count']) > 0\n",
    "\n",
    "    assert len(parameters['checkboxes']) > 0\n",
    "\n",
    "    checkboxes = parameters.get('checkboxes', [])\n",
    "    assert isinstance(checkboxes['driversLicence'], bool)\n",
    "    assert isinstance(checkboxes['requireVisa'], bool)\n",
    "    assert isinstance(checkboxes['legallyAuthorized'], bool)\n",
    "    assert isinstance(checkboxes['urgentFill'], bool)\n",
    "    assert isinstance(checkboxes['commute'], bool)\n",
    "    assert isinstance(checkboxes['backgroundCheck'], bool)\n",
    "    assert 'degreeCompleted' in checkboxes\n",
    "\n",
    "    assert isinstance(parameters['universityGpa'], (int, float))\n",
    "\n",
    "    languages = parameters.get('languages', [])\n",
    "    language_types = {'none', 'conversational', 'professional', 'native or bilingual'}\n",
    "    for language in languages:\n",
    "        assert languages[language].lower() in language_types\n",
    "\n",
    "    experience = parameters.get('experience', [])\n",
    "\n",
    "    for tech in experience:\n",
    "        assert isinstance(experience[tech], int)\n",
    "    assert 'default' in experience\n",
    "\n",
    "    assert len(parameters['personalInfo'])\n",
    "    personal_info = parameters.get('personalInfo', [])\n",
    "    for info in personal_info:\n",
    "        assert personal_info[info] != ''\n",
    "\n",
    "    assert len(parameters['eeo'])\n",
    "    eeo = parameters.get('eeo', [])\n",
    "    for survey_question in eeo:\n",
    "        assert eeo[survey_question] != ''\n",
    "\n",
    "    return parameters\n"
   ]
  },
  {
   "cell_type": "code",
   "execution_count": 2,
   "metadata": {},
   "outputs": [],
   "source": [
    "parameters = validate_yaml()\n",
    "browser = init_browser()\n",
    "\n",
    "bot = LinkedinEasyApply(parameters, browser)"
   ]
  },
  {
   "cell_type": "code",
   "execution_count": 3,
   "metadata": {},
   "outputs": [],
   "source": [
    "import time, random, csv, pyautogui, pdb, traceback, sys\n",
    "from selenium.common.exceptions import TimeoutException\n",
    "from selenium.webdriver.common.keys import Keys\n",
    "from selenium.webdriver.common.by import By\n",
    "from selenium.webdriver.support.ui import Select\n",
    "from datetime import date\n",
    "from itertools import product"
   ]
  },
  {
   "cell_type": "code",
   "execution_count": 4,
   "metadata": {},
   "outputs": [],
   "source": [
    "bot.login()"
   ]
  },
  {
   "cell_type": "code",
   "execution_count": 5,
   "metadata": {},
   "outputs": [
    {
     "name": "stdout",
     "output_type": "stream",
     "text": [
      "Starting the search for Data Scientist.\n",
      "Going to job page 0\n"
     ]
    },
    {
     "name": "stdout",
     "output_type": "stream",
     "text": [
      "Starting the application process for this page...\n"
     ]
    }
   ],
   "source": [
    "self = bot\n",
    "page_sleep = 0\n",
    "minimum_time = 60*15\n",
    "minimum_page_time = time.time() + minimum_time\n",
    "position = self.positions[0]\n",
    "\n",
    "job_page_number = -1\n",
    "\n",
    "print(\"Starting the search for \" + position + \".\")\n",
    "\n",
    "\n",
    "page_sleep += 1\n",
    "job_page_number += 1\n",
    "print(\"Going to job page \" + str(job_page_number))\n",
    "self.next_job_page(position,job_page_number)\n",
    "time.sleep(random.uniform(1.5, 3.5))\n",
    "print(\"Starting the application process for this page...\")\n"
   ]
  },
  {
   "cell_type": "code",
   "execution_count": 6,
   "metadata": {},
   "outputs": [],
   "source": [
    "no_jobs_text = \"\"\n",
    "try:\n",
    "    job_results = self.browser.find_element(By.CLASS_NAME, \"jobs-search-results-list\")\n",
    "    self.scroll_slow(job_results)\n",
    "    self.scroll_slow(job_results, step=1000, reverse=True)\n",
    "\n",
    "    job_list = self.browser.find_elements(By.CLASS_NAME, 'scaffold-layout__list-container')[0].find_elements(By.CLASS_NAME, 'jobs-search-results__list-item')\n",
    "except:\n",
    "    raise Exception(\"No more jobs on this page\")\n"
   ]
  },
  {
   "cell_type": "code",
   "execution_count": 10,
   "metadata": {},
   "outputs": [],
   "source": [
    "job_tile = job_list[20]\n",
    "job_el = job_tile.find_element(By.CLASS_NAME, 'job-card-list__title')\n",
    "job_el.click()"
   ]
  },
  {
   "cell_type": "code",
   "execution_count": 7,
   "metadata": {},
   "outputs": [
    {
     "name": "stdout",
     "output_type": "stream",
     "text": [
      "Starting the search for Data Scientist.\n",
      "Going to job page 0\n",
      "Starting the application process for this page...\n",
      "Job contains blacklisted keyword or experience does not match!\n",
      "greater employee match found. Saving!\n",
      "Job contains blacklisted keyword or experience does not match!\n",
      "Job contains blacklisted keyword or experience does not match!\n",
      "greater employee match found. Saving!\n",
      "greater employee match found. Saving!\n",
      "Job contains blacklisted keyword or experience does not match!\n",
      "Job contains blacklisted keyword or experience does not match!\n",
      "Job contains blacklisted keyword or experience does not match!\n",
      "Job contains blacklisted keyword or experience does not match!\n",
      "Job contains blacklisted keyword or experience does not match!\n",
      "Job contains blacklisted keyword or experience does not match!\n",
      "Job contains blacklisted keyword or experience does not match!\n",
      "Job contains blacklisted keyword or experience does not match!\n",
      "greater employee match found. Saving!\n",
      "Job contains blacklisted keyword or experience does not match!\n",
      "Job contains blacklisted keyword or experience does not match!\n",
      "Job contains blacklisted keyword or experience does not match!\n",
      "greater employee match found. Saving!\n",
      "Job contains blacklisted keyword or experience does not match!\n",
      "greater employee match found. Saving!\n",
      "Job contains blacklisted keyword or experience does not match!\n",
      "Job contains blacklisted keyword or experience does not match!\n",
      "greater employee match found. Saving!\n",
      "greater employee match found. Saving!\n",
      "Applying to jobs on this page has been completed!\n",
      "Sleeping for 808.9483726024628 seconds.\n"
     ]
    }
   ],
   "source": [
    "bot.start_applying()"
   ]
  },
  {
   "cell_type": "code",
   "execution_count": null,
   "metadata": {},
   "outputs": [],
   "source": [
    "parameters = validate_yaml()\n",
    "browser = init_browser()\n",
    "\n",
    "bot = LinkedinEasyApply(parameters, browser)\n",
    "bot.login()\n",
    "bot.security_check()\n",
    "bot.start_applying()\n"
   ]
  },
  {
   "cell_type": "code",
   "execution_count": 5,
   "metadata": {},
   "outputs": [
    {
     "name": "stdout",
     "output_type": "stream",
     "text": [
      "Starting the search for Data Scientist.\n",
      "Going to job page 0\n",
      "Starting the application process for this page...\n",
      "Job contains blacklisted keyword or company or poster name!\n",
      "Done applying to the job!\n",
      "Could not write the job to the file! No special characters in the job title/company is allowed!\n"
     ]
    },
    {
     "name": "stderr",
     "output_type": "stream",
     "text": [
      "Traceback (most recent call last):\n",
      "  File \"d:\\EasyApplyBot-master\\linkedineasyapply.py\", line 228, in apply_jobs\n",
      "    self.write_to_file(company, job_title, link, job_location,poster,job_employee_count)\n",
      "TypeError: LinkedinEasyApply.write_to_file() missing 1 required positional argument: 'search_location'\n"
     ]
    },
    {
     "name": "stdout",
     "output_type": "stream",
     "text": [
      "Job contains blacklisted keyword or company or poster name!\n",
      "Job contains blacklisted keyword or company or poster name!\n",
      "Job contains blacklisted keyword or company or poster name!\n",
      "Job contains blacklisted keyword or company or poster name!\n",
      "Job contains blacklisted keyword or company or poster name!\n",
      "Job contains blacklisted keyword or company or poster name!\n",
      "Job contains blacklisted keyword or company or poster name!\n",
      "Job contains blacklisted keyword or company or poster name!\n",
      "Job contains blacklisted keyword or company or poster name!\n",
      "Job contains blacklisted keyword or company or poster name!\n",
      "Job contains blacklisted keyword or company or poster name!\n",
      "Job contains blacklisted keyword or company or poster name!\n",
      "Job contains blacklisted keyword or company or poster name!\n",
      "Job contains blacklisted keyword or company or poster name!\n",
      "Job contains blacklisted keyword or company or poster name!\n",
      "Job contains blacklisted keyword or company or poster name!\n",
      "Job contains blacklisted keyword or company or poster name!\n",
      "Job contains blacklisted keyword or company or poster name!\n",
      "Job contains blacklisted keyword or company or poster name!\n",
      "Job contains blacklisted keyword or company or poster name!\n",
      "Job contains blacklisted keyword or company or poster name!\n",
      "Job contains blacklisted keyword or company or poster name!\n",
      "Job contains blacklisted keyword or company or poster name!\n",
      "Applying to jobs on this page has been completed!\n",
      "Sleeping for 794.763861656189 seconds.\n"
     ]
    }
   ],
   "source": [
    "bot.start_applying()"
   ]
  },
  {
   "cell_type": "code",
   "execution_count": null,
   "metadata": {},
   "outputs": [],
   "source": []
  }
 ],
 "metadata": {
  "kernelspec": {
   "display_name": "Python 3",
   "language": "python",
   "name": "python3"
  },
  "language_info": {
   "codemirror_mode": {
    "name": "ipython",
    "version": 3
   },
   "file_extension": ".py",
   "mimetype": "text/x-python",
   "name": "python",
   "nbconvert_exporter": "python",
   "pygments_lexer": "ipython3",
   "version": "3.11.8"
  }
 },
 "nbformat": 4,
 "nbformat_minor": 2
}
